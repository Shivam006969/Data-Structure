{
 "cells": [
  {
   "cell_type": "markdown",
   "id": "6c40d5a9-632a-4432-a083-b490df09e13d",
   "metadata": {},
   "source": [
    "### **Data Types and Structures Questions**"
   ]
  },
  {
   "cell_type": "markdown",
   "id": "93300ac3-9e4e-47c4-903c-64addfb231c2",
   "metadata": {},
   "source": [
    "### 1.\tWhat are data structures, and why are they important?"
   ]
  },
  {
   "cell_type": "markdown",
   "id": "c3cfc96c-48bb-4988-82f3-243f7c5fe390",
   "metadata": {},
   "source": [
    "-> Data structures are ways of organizing and storing data for efficient access and manipulation. They are essential because they help programmers manage collections of data and perform operations like searching, sorting, and modifying data. Python provides various built-in data structures like lists, tuples, sets, and dictionaries, each with unique properties and use cases."
   ]
  },
  {
   "cell_type": "markdown",
   "id": "da641e1a-8303-493a-b663-b63c05e8c22f",
   "metadata": {},
   "source": [
    "### 2.\tExplain the difference between mutable and immutable data types with examples."
   ]
  },
  {
   "cell_type": "markdown",
   "id": "4ea6227a-b109-40e7-8e58-edbccf503109",
   "metadata": {},
   "source": [
    "-> `mutable` and `immutable` data types refer to whether or not an object can be changed after it is created.\n",
    "- `Mutable Data Types`:<br>\n",
    "These are data types whose values can be modified after creation. When we change the value of a mutable object, it remains the same object in memory.\n",
    "<br> Examples - Lists and Dictonaries\n",
    "- `Immutable Data Types`:<br>\n",
    "These are data types whose values cannot be modified after creation. Any attempt to change the object results in a new object being created in memory.\n",
    "<br> Examples - String and Tuples"
   ]
  },
  {
   "cell_type": "code",
   "execution_count": 21,
   "id": "d5df5d76-2d0e-4145-812e-6876b3a26870",
   "metadata": {},
   "outputs": [
    {
     "name": "stdout",
     "output_type": "stream",
     "text": [
      "[10, 2, 3]\n"
     ]
    }
   ],
   "source": [
    "# mutable data types\n",
    "# lists\n",
    "my_list = [1, 2, 3]\n",
    "my_list[0] = 10  # Modifies the first element\n",
    "print(my_list)  # Output: [10, 2, 3]"
   ]
  },
  {
   "cell_type": "code",
   "execution_count": 23,
   "id": "886bdec1-71ee-4665-9af5-a717bfb8bde9",
   "metadata": {},
   "outputs": [
    {
     "name": "stdout",
     "output_type": "stream",
     "text": [
      "{'a': 100, 'b': 2}\n"
     ]
    }
   ],
   "source": [
    "# dictonaries\n",
    "my_dict = {'a': 1, 'b': 2}\n",
    "my_dict['a'] = 100  # Updates the value for key 'a'\n",
    "print(my_dict)  # Output: {'a': 100, 'b': 2}"
   ]
  },
  {
   "cell_type": "code",
   "execution_count": 35,
   "id": "f256a125-c0c7-41a2-9368-cf93208d1180",
   "metadata": {},
   "outputs": [
    {
     "name": "stdout",
     "output_type": "stream",
     "text": [
      "hello world!\n"
     ]
    }
   ],
   "source": [
    "# immutable data types\n",
    "# strings\n",
    "my_string = \"hello\"\n",
    "my_string = my_string + \" world!\"  # this will create a new string object\n",
    "print(my_string)  # Output: \"hello world\""
   ]
  },
  {
   "cell_type": "code",
   "execution_count": 3,
   "id": "4cb5856c-dbca-4d03-b0ab-aef2ac675669",
   "metadata": {},
   "outputs": [
    {
     "data": {
      "text/plain": [
       "'my_tuple[0] = 10  # This will show an error, as tuples are immutable'"
      ]
     },
     "execution_count": 3,
     "metadata": {},
     "output_type": "execute_result"
    }
   ],
   "source": [
    "# tuples\n",
    "my_tuple = (1, 2, 3)\n",
    "'''my_tuple[0] = 10  # This will show an error, as tuples are immutable'''"
   ]
  },
  {
   "cell_type": "markdown",
   "id": "844b5ac3-0570-4379-9294-46980fe1fdf0",
   "metadata": {},
   "source": [
    "### 3. What are the main differences between lists and tuples in Python?"
   ]
  },
  {
   "cell_type": "markdown",
   "id": "b09b52e4-9639-45d3-a2bc-8ed6623cf528",
   "metadata": {},
   "source": [
    "-> Lists and tuples are both built-in data structures in Python that can store heterogenous data, but they have differences in their characteristics and use cases:\n",
    "\n",
    "#### **1. Mutability**\n",
    "- **Lists:** Mutable, meaning their elements can be modified (add, remove, or change items).\n",
    "- **Tuples:** Immutable, meaning their elements cannot be changed after creation.\n",
    "\n",
    "#### **2. Syntax**\n",
    "- **Lists:** Defined using square brackets `[ ]` (e.g., `my_list = [1, 2, 3]`).\n",
    "- **Tuples:** Defined using parentheses `( )` (e.g., `my_tuple = (1, 2, 3)`).\n",
    "\n",
    "#### **3. Use Cases**\n",
    "- **Lists:** Ideal for scenarios where the data will change frequently.\n",
    "- **Tuples:** Perfect for fixed data that should remain constant.\n",
    "\n",
    "#### **4. Memory Consumption**\n",
    "- **Lists:** Consume more memory due to their flexibility.\n",
    "- **Tuples:** Use less memory as they are static in nature.\n",
    "\n",
    "#### **5. Built-In Functions**\n",
    "- **Lists:** Offer many operations methods (e.g., `.append()`, `.extend()`, `.pop()`).\n",
    "- **Tuples:** Have fewer built-in methods but support operations like indexing, slicing, and counting."
   ]
  },
  {
   "cell_type": "markdown",
   "id": "c028758e-c0d8-4bcd-8bf4-5c243c67b643",
   "metadata": {},
   "source": [
    "### 4. Describe how dictionaries store data."
   ]
  },
  {
   "cell_type": "markdown",
   "id": "0eff0f51-2143-4ed8-bf26-14abb256e0e6",
   "metadata": {},
   "source": [
    "-> Dictionaries are data structures that store data as key-value pairs. Here's how they work:\n",
    "\n",
    "#### **1. Structure**\n",
    "- A dictionary is an ordered collection where each element consists of a **key** and its associated **value**.\n",
    "- Keys act as identifiers and must be immutable (e.g., strings, numbers, or tuples). Values can be of any data type.\n",
    "\n",
    "#### **2. Memory Layout**\n",
    "- Each key of a dictionary acts as a unique index and this index maps to a specific location in the dictionary's memory.\n",
    "\n",
    "#### **3. Key-Value Storage**\n",
    "- Keys and values are linked together, so when we access a key, the hash table quickly retrieves its corresponding value.\n",
    "\n",
    "#### **4. Order in Dictionaries**\n",
    "- Dictionaries maintain the **insertion order** of keys, meaning the keys appear in the order they were added."
   ]
  },
  {
   "cell_type": "code",
   "execution_count": 31,
   "id": "1d8bcad0-4385-496c-b0f7-6156be6f4c81",
   "metadata": {},
   "outputs": [
    {
     "name": "stdout",
     "output_type": "stream",
     "text": [
      "{'name': 'Shivam', 'age': 21}\n"
     ]
    }
   ],
   "source": [
    "my_dict = {\"name\": \"Shivam\", \"age\": 21}\n",
    "print(my_dict)"
   ]
  },
  {
   "cell_type": "code",
   "execution_count": 35,
   "id": "6fc9d36f-6985-46e8-b170-29e7a3f340cf",
   "metadata": {},
   "outputs": [
    {
     "name": "stdout",
     "output_type": "stream",
     "text": [
      "{'name': 'Shivam', 'age': 21, 'city': 'Delhi'}\n"
     ]
    }
   ],
   "source": [
    "my_dict[\"city\"] = \"Delhi\" # this will add city in the last of this dictionary\n",
    "print(my_dict)"
   ]
  },
  {
   "cell_type": "code",
   "execution_count": 37,
   "id": "b7dd0db7-6050-45a7-a82e-54826ccea7bb",
   "metadata": {},
   "outputs": [
    {
     "data": {
      "text/plain": [
       "'Shivam'"
      ]
     },
     "execution_count": 37,
     "metadata": {},
     "output_type": "execute_result"
    }
   ],
   "source": [
    "my_dict[\"name\"] # this will access the name key of the dictionary"
   ]
  },
  {
   "cell_type": "markdown",
   "id": "1ac2b398-e6ce-4162-b173-4a522e26c712",
   "metadata": {},
   "source": [
    "### 5. Why might you use a set instead of a list in Python?"
   ]
  },
  {
   "cell_type": "markdown",
   "id": "a17284e5-0499-4856-ad74-8fa3759e303e",
   "metadata": {},
   "source": [
    "-> We might choose a set over a list in python when we need a collection of unique elements and sets performs operations faster than lists.\n",
    "Here's why we might choose a set over a list:\n",
    "\n",
    "#### **1. Uniqueness**\n",
    "- **Sets:** Automatically remove duplicate elements. If we have same data multiple times and want only unique items, sets are perfect."
   ]
  },
  {
   "cell_type": "code",
   "execution_count": 57,
   "id": "8770af3f-a639-44b1-9220-b56c98be1f48",
   "metadata": {},
   "outputs": [
    {
     "name": "stdout",
     "output_type": "stream",
     "text": [
      "[1, 2, 2, 2, 3, 3, 3, 4, 4, 4]\n",
      "{1, 2, 3, 4}\n"
     ]
    }
   ],
   "source": [
    "my_list = [1,2,2,2,3,3,3,4,4,4]\n",
    "my_set = {1,2,2,2,3,3,3,4,4,4}\n",
    "print(my_list) # List will print all the elements\n",
    "print(my_set) # Set will print only the unique elements and ignore all the duplicate values"
   ]
  },
  {
   "cell_type": "markdown",
   "id": "d9459d08-2304-4ce2-9940-6c8496d7ee11",
   "metadata": {},
   "source": [
    "#### **2. Unordered Data**\n",
    "- **Sets:** Do not maintain order; if order isn't important, sets are ideal.\n",
    "- **Lists:** Maintain the order of elements."
   ]
  },
  {
   "cell_type": "code",
   "execution_count": 63,
   "id": "77b8eea7-e467-4ee3-8ea7-c37ceb818139",
   "metadata": {},
   "outputs": [
    {
     "name": "stdout",
     "output_type": "stream",
     "text": [
      "[1, 2, 7, 8, 3, 9]\n",
      "{1, 2, 3, 7, 8, 9}\n"
     ]
    }
   ],
   "source": [
    "my_list = [1,2,7,8,3,9] # It will take the order of data as we write it.\n",
    "my_set = {1,2,7,8,3,9} # It has no order and gives the elements any random order.\n",
    "print(my_list)\n",
    "print(my_set)"
   ]
  },
  {
   "cell_type": "markdown",
   "id": "031b8e19-c031-4de7-8f62-481fe76984aa",
   "metadata": {},
   "source": [
    "#### **3. Operations**\n",
    "- **Sets:** Offer mathematical operations like union, intersection, difference, and symmetric difference.\n",
    "- **Lists:** Do not have built-in support for such operations."
   ]
  },
  {
   "cell_type": "code",
   "execution_count": 67,
   "id": "0181dac2-6df1-41fe-9bf5-a94f4b2a5069",
   "metadata": {},
   "outputs": [],
   "source": [
    "set1 = {1,2,3,4,5}\n",
    "set2 = {4,5,6,7,8}"
   ]
  },
  {
   "cell_type": "code",
   "execution_count": 83,
   "id": "8ad8198b-9287-4bd1-8ad4-11366507275a",
   "metadata": {},
   "outputs": [
    {
     "data": {
      "text/plain": [
       "{1, 2, 3, 4, 5, 6, 7, 8}"
      ]
     },
     "execution_count": 83,
     "metadata": {},
     "output_type": "execute_result"
    }
   ],
   "source": [
    "#Union\n",
    "set1 | set2 # This will give union of set1 and set2 i.e., elements of both the sets."
   ]
  },
  {
   "cell_type": "code",
   "execution_count": 85,
   "id": "271872b9-44a2-4212-8894-db48dd710c2a",
   "metadata": {},
   "outputs": [
    {
     "data": {
      "text/plain": [
       "{4, 5}"
      ]
     },
     "execution_count": 85,
     "metadata": {},
     "output_type": "execute_result"
    }
   ],
   "source": [
    "#Intersection\n",
    "set1 & set2 # This will give intersection of set1 and set2 i.e., elements which are common in both the sets."
   ]
  },
  {
   "cell_type": "code",
   "execution_count": 91,
   "id": "7620b139-562a-447e-8fc6-7c29d892cb65",
   "metadata": {},
   "outputs": [
    {
     "data": {
      "text/plain": [
       "{1, 2, 3}"
      ]
     },
     "execution_count": 91,
     "metadata": {},
     "output_type": "execute_result"
    }
   ],
   "source": [
    "#Difference\n",
    "set1 - set2 # this will give the elements which are only present in set1."
   ]
  },
  {
   "cell_type": "code",
   "execution_count": 93,
   "id": "c17e580d-2ba3-47e1-a714-2a66c53020ce",
   "metadata": {},
   "outputs": [
    {
     "data": {
      "text/plain": [
       "{1, 2, 3, 6, 7, 8}"
      ]
     },
     "execution_count": 93,
     "metadata": {},
     "output_type": "execute_result"
    }
   ],
   "source": [
    "#Symmertic Difference\n",
    "set1 ^ set2 # this will give all the elements except the common elements."
   ]
  },
  {
   "cell_type": "markdown",
   "id": "731a9d5f-a068-4a01-bfe5-f3326684dcb5",
   "metadata": {},
   "source": [
    "#### **Use Case Scenarios**\n",
    "- Use a **set** when:\n",
    "  - We want unique items without duplicates.\n",
    "  - We need fast lookups for membership testing.\n",
    "  - We're working with unordered data.\n",
    "  \n",
    "- Use a **list** when:\n",
    "  - We need to preserve the order of items.\n",
    "  - Duplicates are required or meaningful."
   ]
  },
  {
   "cell_type": "markdown",
   "id": "93117b15-cc7a-4d71-b871-91e0dedff647",
   "metadata": {},
   "source": [
    "### 6. What is a string in Python, and how is it different from a list?"
   ]
  },
  {
   "cell_type": "markdown",
   "id": "b486e3c6-b267-43f5-bfe6-6debf235e864",
   "metadata": {},
   "source": [
    "-> A **string** in Python is a sequence of characters enclosed within either single quotes (`'`) or double quotes (`\"`). Strings are used to represent text, such as words, sentences, or any collection of characters."
   ]
  },
  {
   "cell_type": "code",
   "execution_count": 1,
   "id": "9aeda3fa-6847-49eb-a5b8-6d06254d4279",
   "metadata": {},
   "outputs": [],
   "source": [
    "#for example\n",
    "my_string = \"Hello, World!\""
   ]
  },
  {
   "cell_type": "markdown",
   "id": "265915d3-a041-4bb7-86d5-3f2a486c7ac3",
   "metadata": {},
   "source": [
    "Here are the key differences between **strings** and **lists**:\n",
    "#### 1. **Data Types**\n",
    "- **Strings:** A sequence of characters.\n",
    "- **Lists:** A collection of items (elements) of any data type (e.g., integers, strings, etc.).\n",
    "\n",
    "#### 2. **Mutability**\n",
    "- **Strings:** Immutable (it's individual characters can't be modified).\n",
    "- **Lists:** Mutable (it's elements can be modified).\n",
    "\n",
    "#### 3. **Syntax**\n",
    "- **Strings:** Enclosed in quotes (`\" \"` or `' '`).\n",
    "- **Lists:** Enclosed in square brackets (`[ ]`).\n",
    "\n",
    "#### 4. **Homogeneity**\n",
    "- **Strings:** Always a sequence of characters.\n",
    "- **Lists:** Can contain elements of mixed types.\n",
    "\n",
    "#### 5. **Operations**\n",
    "- **Strings:** Supports string-specific methods like `.upper()`, `.lower()`, and `.replace()`.\n",
    "- **Lists:** Supports list-specific methods like `.append()`, `.pop()`, and `.extend()`.\n",
    "\n",
    "#### 6. **Indexing & Slicing**\n",
    "- **Strings:** Supports both (e.g., `string[0]`, `string[1:4]`).\n",
    "- **Lists:** Supports both (e.g., `list[0]`, `list[1:4]`)."
   ]
  },
  {
   "cell_type": "markdown",
   "id": "3d2d28bc-7f65-48e6-9866-0b0ad4a6fb21",
   "metadata": {},
   "source": [
    "### 7. How do tuples ensure data integrity in Python?"
   ]
  },
  {
   "cell_type": "markdown",
   "id": "82c55647-cd4f-451e-a3d9-04480346af7c",
   "metadata": {},
   "source": [
    "-> Tuples ensure data integrity in Python mainly through **immutability**. Here’s how:\n",
    "\n",
    "#### **1. Immutable Nature**\n",
    "- Once a tuple is created, its elements cannot be changed, added, or removed. This guarantees that the data remains consistent throughout its lifecycle.\n",
    "\n",
    "#### **2. Safe as Keys in Dictionaries**\n",
    "- Because tuples are immutable, they are **hashable** and can be used as keys in dictionaries. This is useful for cases where you need a reliable identifier for associated data.\n",
    "\n",
    "### **3. Prevents Accidental Modification**\n",
    "- In scenarios where data integrity is crucial—like configuration settings, database entries, or fixed coordinates—tuples act as a safeguard against unintended changes. Unlike lists, they do not allow accidental mutation.\n",
    "\n",
    "#### **4. Easier Debugging**\n",
    "- Because tuples cannot be modified, we can confidently use them as stable references in code. This reduces bugs arising from unexpected changes during execution.\n",
    "\n",
    "#### **5. Lightweight and Efficient**\n",
    "- Tuples consume less memory than lists and have faster access times. This efficiency combined with immutability makes tuples reliable for performance-critical applications requiring unchangeable data."
   ]
  },
  {
   "cell_type": "markdown",
   "id": "d1772a96-ba3b-4e50-a47c-9c9f07dc0f0b",
   "metadata": {},
   "source": [
    "### 8. What is a hash table, and how does it relate to dictionaries in Python?"
   ]
  },
  {
   "cell_type": "markdown",
   "id": "3b6670c3-aedb-42b2-9570-2a40769967a5",
   "metadata": {},
   "source": [
    "-> A **hash table** is a data structure that stores data in a key-value pair format and uses a **hashing function** to efficiently map keys to their corresponding values in memory. It is designed to provide fast access, insertion, and deletion operations.\n",
    "\n",
    "#### **Relation to Dictionaries in Python**\n",
    "In Python, dictionaries are implemented as **hash tables** internally. Here's how they are connected:\n",
    "- **Key-Value Pair Storage**: Like hash tables, dictionaries store key-value pairs. Each key is hashed to locate its corresponding value.\n",
    "- **Efficiency**: Operations like key lookup (`key in dictionary`) and value assignment (`dictionary[key] = value`) are extremely fast due to the hash table mechanism.\n",
    "- **Collision Handling**: Python's dictionary implementation resolves hash collisions efficiently, ensuring consistent performance.\n",
    "- **Dynamic Resizing**: Dictionaries automatically resize as they grow to maintain optimal performance."
   ]
  },
  {
   "cell_type": "code",
   "execution_count": 15,
   "id": "bc4998ae-3507-4d06-93db-b667181e4b09",
   "metadata": {},
   "outputs": [
    {
     "name": "stdout",
     "output_type": "stream",
     "text": [
      "Shivam\n"
     ]
    }
   ],
   "source": [
    "my_dict = {\"name\": \"Shivam\", \"age\": 21}\n",
    "print(my_dict[\"name\"])  # The key \"name\" is hashed to find its value quickly."
   ]
  },
  {
   "cell_type": "markdown",
   "id": "b673c0dc-4594-4a78-8776-b6e52287a792",
   "metadata": {},
   "source": [
    "### 9. Can lists contain different data types in Python?"
   ]
  },
  {
   "cell_type": "markdown",
   "id": "c97d5326-5382-47a5-809e-de5a4e96875c",
   "metadata": {},
   "source": [
    "-> Yes, lists are very flexible in python and can store different types of elements of data.<br>\n",
    "For example - list can contail `string`, `integer`, `float`, `boolean` and even other `lists` in the same list."
   ]
  },
  {
   "cell_type": "code",
   "execution_count": 2,
   "id": "8705505e-bc87-47e9-a829-024d297d75e6",
   "metadata": {},
   "outputs": [
    {
     "name": "stdout",
     "output_type": "stream",
     "text": [
      "[42, 'hello', 3.14, [1, 2, 3]]\n"
     ]
    }
   ],
   "source": [
    "mixed_list = [42, \"hello\", 3.14, [1, 2, 3]]\n",
    "print(mixed_list)"
   ]
  },
  {
   "cell_type": "markdown",
   "id": "2ea46da6-83ab-4b40-a8a4-20005ec4e382",
   "metadata": {},
   "source": [
    "### 10. Explain why strings are immutable in Python."
   ]
  },
  {
   "cell_type": "markdown",
   "id": "c6dd74df-7ccb-4838-8296-d10edb112b93",
   "metadata": {},
   "source": [
    "-> Strings in Python are immutable, meaning that their contents can't be changed after they are created. This immutability have their own purpose and benefits:\n",
    "\n",
    "1. **Efficiency and Performance**: Strings are a fundamental and widely used data type. By making strings immutable, Python allows for optimizations like string interning (reusing instances of identical strings) and faster memory access.\n",
    "\n",
    "2. **Thread Safety**: Immutability ensures that strings can be safely shared between threads without the risk of data corruption due to unwanted modifications.\n",
    "\n",
    "3. **Hashability**: Because strings are immutable, they can be hashed. This makes them suitable for use as keys in dictionaries and elements in sets, which rely on immutable and hashable objects.\n",
    "\n",
    "4. **Consistency**: Immutable strings help avoid unintended side effects. For example, if multiple variables reference the same string, modifying that string in place would cause unexpected changes across all references.\n",
    "\n",
    "If we need to modify a string, Python provides methods like `replace()`, `join()`, or slicing, which create and return a new string instead of altering the original."
   ]
  },
  {
   "cell_type": "markdown",
   "id": "cd30096d-8036-4178-893b-3ca5a3400211",
   "metadata": {},
   "source": [
    "### 11. What advantages do dictionaries offer over lists for certain tasks?"
   ]
  },
  {
   "cell_type": "markdown",
   "id": "1cd18393-e53f-46ec-9387-152c6b4c9118",
   "metadata": {},
   "source": [
    "-> Dictionaries in Python offer several advantages over lists for certain tasks because they are designed to store key-value pairs, allowing for efficient data retrieval and organization. Here are some key advantages:\n",
    "\n",
    "1. **Faster Lookup**: With dictionaries, we can access values by their unique keys in **O(1)** time complexity, making them much faster for lookups compared to lists, which require scanning through elements.\n",
    "\n",
    "2. **Semantic Organization**: Dictionaries provide a clear structure for storing and retrieving data. Keys act as labels, making it easier to associate data meaningfully, unlike lists, which require reliance on indices.\n",
    "\n",
    "3. **Avoid Duplicate Keys**: Dictionaries automatically prevent duplicate keys, ensuring each key maps to only one value. This is ideal when unique identifiers are needed.\n",
    "\n",
    "4. **Flexibility in Data Types**: Keys and values in dictionaries can be of different data types, giving greater flexibility in organizing information compared to lists, which are purely sequential.\n",
    "\n",
    "5. **Dynamic Sizing**: Adding or removing items in a dictionary is straightforward and efficient, without the need for shifting elements as in lists."
   ]
  },
  {
   "cell_type": "markdown",
   "id": "2244bc9b-2a81-42be-9881-12855c2c36e5",
   "metadata": {},
   "source": [
    "### 12. Describe a scenario where using a tuple would be preferable over a list."
   ]
  },
  {
   "cell_type": "markdown",
   "id": "0627cb0a-6224-4ffd-8aba-02275a4844d6",
   "metadata": {},
   "source": [
    "-> Tuples are preferable over lists in scenarios where data immutability is important and where the need for memory efficiency is higher. Here's a specific scenario:<br>\n",
    "For example if we want to store aadhar number of the employees in work under a employer than we won't want that data to be changed because addhar number of the employees will be same."
   ]
  },
  {
   "cell_type": "code",
   "execution_count": 16,
   "id": "b9133fc9-07eb-4e91-88f3-4010592bfe82",
   "metadata": {},
   "outputs": [
    {
     "name": "stdout",
     "output_type": "stream",
     "text": [
      "(1234, 4567, 7890)\n"
     ]
    }
   ],
   "source": [
    "emp_aadhar = (1234,4567,7890)\n",
    "print(emp_aadhar) # This data will be fixed and it can't be changed."
   ]
  },
  {
   "cell_type": "markdown",
   "id": "a2316152-2b1a-4a51-92c8-537302677a0b",
   "metadata": {},
   "source": [
    "### 13. How do sets handle duplicate values in Python?"
   ]
  },
  {
   "cell_type": "markdown",
   "id": "b0195595-b935-4a8c-a0ee-f599edaec081",
   "metadata": {},
   "source": [
    "-> Sets in Python automatically remove duplicate values. When we create a set or add items to it, Python ensures that each element is unique - any duplicates vlaues are eliminated."
   ]
  },
  {
   "cell_type": "code",
   "execution_count": 22,
   "id": "cc1e3e74-96f4-4db2-80f1-14f12b40ea0a",
   "metadata": {},
   "outputs": [
    {
     "name": "stdout",
     "output_type": "stream",
     "text": [
      "{1, 2, 3, 4, 5}\n"
     ]
    }
   ],
   "source": [
    "my_set = {1,2,2,3,3,3,3,4,4,5}\n",
    "print(my_set)"
   ]
  },
  {
   "cell_type": "markdown",
   "id": "f987b67d-c4f9-45f8-8952-72d60f6aaead",
   "metadata": {},
   "source": [
    "### 14. How does the “in” keyword work differently for lists and dictionaries?"
   ]
  },
  {
   "cell_type": "markdown",
   "id": "3f6b5fc8-114a-4c14-bdbb-eda82e3ecef0",
   "metadata": {},
   "source": [
    "The `in` keyword operates differently for **lists** and **dictionaries** because of their underlying structures and purposes:\n",
    "\n",
    "1. **For Lists**:\n",
    "   - The `in` keyword checks if a specific element exists **in the list**.\n",
    "   - It performs a **sequential search**, meaning it goes through each item one by one until it finds a match or reaches the end of the list.\n",
    "   - Example:"
   ]
  },
  {
   "cell_type": "code",
   "execution_count": 31,
   "id": "67998784-3758-4ebd-ba3b-7a4d1e35997a",
   "metadata": {},
   "outputs": [
    {
     "name": "stdout",
     "output_type": "stream",
     "text": [
      "True\n",
      "False\n"
     ]
    }
   ],
   "source": [
    "my_list = [10, 20, 30, 40]\n",
    "print(20 in my_list) # it will show true, as 20 is present in the list.\n",
    "print(50 in my_list) # it will show false, as 50 is not present in the list."
   ]
  },
  {
   "cell_type": "markdown",
   "id": "7d3b1831-08c4-43d8-903a-a5235af1f9d7",
   "metadata": {},
   "source": [
    "2. **For Dictionaries**:\n",
    "   - The `in` keyword checks for the presence of a **key** in the dictionary, not the values.\n",
    "   - It performs a much faster lookup because dictionaries are implemented as hash tables.\n",
    "   - Example:"
   ]
  },
  {
   "cell_type": "code",
   "execution_count": 36,
   "id": "237b9cee-93d8-4766-95fb-fabcbfee99c1",
   "metadata": {},
   "outputs": [
    {
     "name": "stdout",
     "output_type": "stream",
     "text": [
      "True\n",
      "False\n"
     ]
    }
   ],
   "source": [
    "my_dict = {\"a\": 1, \"b\": 2, \"c\": 3}\n",
    "print(\"b\" in my_dict)  # Output will be True, because b is the key.\n",
    "print(2 in my_dict)    # Output will be False because 2 is not the key but the values,"
   ]
  },
  {
   "cell_type": "markdown",
   "id": "2ee8b2df-dd52-4ace-8465-b8abc2ac3197",
   "metadata": {},
   "source": [
    "If we want to check for a value in a dictionary, you can use the `.values()` method:"
   ]
  },
  {
   "cell_type": "code",
   "execution_count": 41,
   "id": "8bb8ac5a-7fb0-4ffd-a4e1-f8894ed6179a",
   "metadata": {},
   "outputs": [
    {
     "name": "stdout",
     "output_type": "stream",
     "text": [
      "True\n"
     ]
    }
   ],
   "source": [
    "print(2 in my_dict.values())"
   ]
  },
  {
   "cell_type": "markdown",
   "id": "1189ffdc-0fff-4dde-bd5c-c4de66fbe7a2",
   "metadata": {},
   "source": [
    "### 15. Can you modify the elements of a tuple? Explain why or why not."
   ]
  },
  {
   "cell_type": "markdown",
   "id": "43e0f7f7-92b2-4766-9ace-9ec951b343b1",
   "metadata": {},
   "source": [
    "-> No, you cannot modify the elements of a tuple in Python. Here's why:\n",
    "\n",
    "- **Immutable Nature**: Tuples are immutable, meaning once they are created, their contents cannot be changed. This immutability is one of the defining characteristics of tuples, making them distinct from lists.\n",
    "\n",
    "- **Purpose of Immutability**: Tuples are often used to store data that should remain constant throughout a program's execution. Their immutability ensures that their contents are secure and cannot be altered accidentally.\n",
    "\n",
    "That said, while we can't directly change the elements of a tuple, you can perform operations like:\n",
    "- **Reassignment**: We can create a new tuple and assign it to the same variable.\n",
    "- **Mutability of Nested Objects**: If a tuple contains mutable objects (like a list), those objects can be modified, even though the tuple itself remains immutable.\n",
    "\n",
    "For example:"
   ]
  },
  {
   "cell_type": "code",
   "execution_count": 4,
   "id": "876ae05f-ce0c-4db0-aae3-4bc5869eb1a5",
   "metadata": {},
   "outputs": [
    {
     "name": "stdout",
     "output_type": "stream",
     "text": [
      "([1, 42, 3], 'immutable_string')\n"
     ]
    }
   ],
   "source": [
    "# Tuple containing mutable objects\n",
    "my_tuple = ([1, 2, 3], \"immutable_string\")\n",
    "\n",
    "# Modifying the list inside the tuple\n",
    "my_tuple[0][1] = 42\n",
    "print(my_tuple) # In output 2 will be replaced by 42"
   ]
  },
  {
   "cell_type": "markdown",
   "id": "6b4be238-2b17-4051-8b25-12a7b7901a2d",
   "metadata": {},
   "source": [
    "### 16. What is a nested dictionary, and give an example of its use case?"
   ]
  },
  {
   "cell_type": "markdown",
   "id": "064e8c60-7980-4b3a-8913-d17f0cfb2604",
   "metadata": {},
   "source": [
    "-> A **nested dictionary** in Python is a dictionary within another dictionary. It's a way to organize complex hierarchical data in a structured format. Each key in the outer dictionary maps to another dictionary as its value.\n",
    "\n",
    "#### Example Use Case\n",
    "**Scenario**: Managing student records in a school, where each student has multiple attributes like name, age, and subjects with their scores."
   ]
  },
  {
   "cell_type": "code",
   "execution_count": 2,
   "id": "1eebf02c-c499-4f70-a154-7b640ae7e5a7",
   "metadata": {},
   "outputs": [
    {
     "name": "stdout",
     "output_type": "stream",
     "text": [
      "90\n"
     ]
    }
   ],
   "source": [
    "# Nested Dictionary Example\n",
    "students = {\"Student1\": {\"Name\": \"Alice\", \"Age\": 14, \"Subjects\": {\"Math\": 90, \"Science\": 85}},\n",
    "    \"Student2\": {\"Name\": \"Bob\", \"Age\": 15, \"Subjects\": { \"Math\": 88, \"Science\": 92}}}\n",
    "\n",
    "# Accessing nested dictionary elements\n",
    "print(students[\"Student1\"][\"Subjects\"][\"Math\"])  # Output: 90"
   ]
  },
  {
   "cell_type": "markdown",
   "id": "5db79338-39e1-4174-96c6-7f22f5b6ae90",
   "metadata": {},
   "source": [
    "### Use Case:\n",
    "Nested dictionaries are particularly useful in applications requiring hierarchical data management, like:\n",
    "- **Database-like storage**: To organize user profiles, inventory, or hierarchical configurations.\n",
    "- **Data Analysis**: When working with multi-dimensional datasets where attributes are grouped logically.\n",
    "- **APIs**: Parsing or creating JSON-like structures for communication between services."
   ]
  },
  {
   "cell_type": "markdown",
   "id": "cee8c674-805e-43de-80cb-18eaf4c64111",
   "metadata": {},
   "source": [
    "### 17. Describe the time complexity of accessing elements in a dictionary."
   ]
  },
  {
   "cell_type": "markdown",
   "id": "458b30d4-9c1a-4ebd-b2e7-59aafa42561c",
   "metadata": {},
   "source": [
    "-> Accessing elements in a dictionary has a time complexity of **O(1)** on average, meaning it is very efficient. Here's why:\n",
    "\n",
    "- **Hashing Mechanism**: Dictionaries in Python use a hash table under the hood. Each key in the dictionary is hashed to generate a unique index for storing the corresponding value. When accessing an element, Python computes the hash of the key and directly looks up the corresponding index, avoiding the need for sequential search.\n",
    "\n",
    "- **Average Case**: In most situations, accessing an element is **O(1)** due to the constant-time lookup provided by the hash table.\n",
    "\n",
    "- **Worst Case**: In rare scenarios where hash collisions occur (different keys producing the same hash), the time complexity can degrade to **O(n)**. In such cases, Python uses a secondary method (like chaining or probing) to resolve collisions, resulting in additional lookup steps."
   ]
  },
  {
   "cell_type": "markdown",
   "id": "d6a21de2-db58-4662-a598-62d5d4ad5fb5",
   "metadata": {},
   "source": [
    "### 18. In what situations are lists preferred over dictionaries?"
   ]
  },
  {
   "cell_type": "markdown",
   "id": "70d11b2d-42ae-4724-ace8-f2f82860a9fc",
   "metadata": {},
   "source": [
    "-> Lists and dictionaries are both versatile data structures in Python, but the choice between them depends on the specific needs of your program. Here are some situations where **lists** are preferred over dictionaries:\n",
    "\n",
    "#### 1. **Order of Elements Matters**\n",
    "   - Lists maintain the order of elements, which is useful if the sequence or position of items is critical.\n",
    "   - For example: Storing a series of daily temperatures in chronological order.\n",
    "\n",
    "#### 2. **Simple Data Representation**\n",
    "   - When you only need to store a collection of items without additional context (keys), lists are more appropriate.\n",
    "   - For example: Names of fruits - `[\"Apple\", \"Banana\", \"Cherry\"]`.\n",
    "\n",
    "#### 3. **Frequent Iterations Over Values**\n",
    "   - If you often loop through all the elements, lists are more straightforward as you don't need to deal with key-value pairs.\n",
    "\n",
    "#### 4. **Memory Efficiency**\n",
    "   - Lists generally consume less memory compared to dictionaries because dictionaries store keys and values, plus hashing overhead.\n",
    "\n",
    "#### 5. **Fast Access by Index**\n",
    "   - If you access elements by their positional index, lists are faster and more direct than dictionaries.\n",
    "\n",
    "#### 6. **No Need for Keyed Lookups**\n",
    "   - If you don't require lookups based on unique keys and simply need to store and retrieve items sequentially, lists are the better choice.\n",
    "\n",
    "##### Example:\n",
    "- **List Use Case**: Managing a queue of users waiting for support."
   ]
  },
  {
   "cell_type": "code",
   "execution_count": 3,
   "id": "6d45785f-482e-4e61-b754-1486f8da02ef",
   "metadata": {},
   "outputs": [
    {
     "name": "stdout",
     "output_type": "stream",
     "text": [
      "Alice\n"
     ]
    }
   ],
   "source": [
    "queue = [\"Alice\", \"Bob\", \"Charlie\"]\n",
    "print(queue[0])  # Access the first user in line"
   ]
  },
  {
   "cell_type": "markdown",
   "id": "6f3656a9-c684-4290-9952-ff4deb522a04",
   "metadata": {},
   "source": [
    "### 19. Why are dictionaries considered unordered, and how does that affect data retrieval?"
   ]
  },
  {
   "cell_type": "markdown",
   "id": "d383fc03-cbfe-4ea2-a727-a552424a1f4c",
   "metadata": {},
   "source": [
    "-> Dictionaries are considered unordered because they do not maintain the order of elements as they are inserted. Instead, they organize data based on hash values of the keys, which determines the position of key-value pairs in memory. This hash-based implementation allows for highly efficient lookups, insertions, and deletions, but it sacrifices the predictable sequence of elements.\n",
    "\n",
    "#### Effects on Data Retrieval:\n",
    "1. **Order Is Not Guaranteed**: When iterating over a dictionary, the order of keys and values may not match the insertion order. For example:"
   ]
  },
  {
   "cell_type": "code",
   "execution_count": 14,
   "id": "61c2329d-1cb7-4e37-a268-ad0d7ddc046d",
   "metadata": {},
   "outputs": [
    {
     "name": "stdout",
     "output_type": "stream",
     "text": [
      "x\n",
      "y\n",
      "z\n"
     ]
    }
   ],
   "source": [
    "my_dict = {\"x\": 10, \"y\": 20, \"z\": 30}\n",
    "for key in my_dict:\n",
    "    print(key) # Output may vary: \"x\", \"y\", \"z\" or another order"
   ]
  },
  {
   "cell_type": "markdown",
   "id": "25034fb1-0b7d-411b-930c-e02c9ca6f9dd",
   "metadata": {},
   "source": [
    "2. **Key-Based Access**: While unordered, dictionaries allow direct access to values using keys, making retrieval quick and precise:"
   ]
  },
  {
   "cell_type": "code",
   "execution_count": 17,
   "id": "53051456-a845-47bc-90d3-fb0550670ffe",
   "metadata": {},
   "outputs": [
    {
     "name": "stdout",
     "output_type": "stream",
     "text": [
      "20\n"
     ]
    }
   ],
   "source": [
    "print(my_dict[\"y\"])  # Output: 20"
   ]
  },
  {
   "cell_type": "markdown",
   "id": "38a395e9-f6f1-4e5b-91a9-f0779b616be2",
   "metadata": {},
   "source": [
    "### 20. Explain the difference between a list and a dictionary in terms of data retrieval."
   ]
  },
  {
   "cell_type": "markdown",
   "id": "0817240b-4182-427a-9713-2ed8323e6f8f",
   "metadata": {},
   "source": [
    "-> The primary difference between a **list** and a **dictionary** in terms of data retrieval lies in how the data is accessed and organized:\n",
    "\n",
    "#### 1. **Access Method**:\n",
    "   - **List**: Data in a list is accessed using **integer indices** that represent the position of elements in the list. Retrieval often involves knowing the exact index or iterating through the list."
   ]
  },
  {
   "cell_type": "code",
   "execution_count": 23,
   "id": "f15eeda0-423e-45f8-8b96-237671f811e8",
   "metadata": {},
   "outputs": [
    {
     "name": "stdout",
     "output_type": "stream",
     "text": [
      "banana\n"
     ]
    }
   ],
   "source": [
    "my_list = [\"apple\", \"banana\", \"carrot\"]\n",
    "print(my_list[1])  # Output: \"banana\""
   ]
  },
  {
   "cell_type": "markdown",
   "id": "d5540d3b-25a2-4cf7-b3e4-5bccaf10ea10",
   "metadata": {},
   "source": [
    "   - **Dictionary**: Data in a dictionary is accessed using **unique keys**, which act as identifiers for values. This allows for direct and intuitive access without needing to know the position."
   ]
  },
  {
   "cell_type": "code",
   "execution_count": 26,
   "id": "5054b2a4-ed72-4d8b-a0c3-4de5ee56df0d",
   "metadata": {},
   "outputs": [
    {
     "name": "stdout",
     "output_type": "stream",
     "text": [
      "banana\n"
     ]
    }
   ],
   "source": [
    "my_dict = {\"a\": \"apple\", \"b\": \"banana\", \"c\": \"carrot\"}\n",
    "print(my_dict[\"b\"])  # Output: \"banana\""
   ]
  },
  {
   "cell_type": "markdown",
   "id": "08e5bf2c-d6af-4aeb-adaa-41174b1691bc",
   "metadata": {},
   "source": [
    "#### 2. **Efficiency**:\n",
    "   - **List**: Retrieval requires **O(n)** time in the worst case, especially if you’re searching for an element by value, as it involves scanning through the list sequentially.\n",
    "   - **Dictionary**: Retrieval is typically **O(1)** on average due to its hash-based implementation, making it much faster for lookups.\n",
    "\n",
    "#### 3. **Data Organization**:\n",
    "   - **List**: Data is stored in a linear, sequential order. Suitable for scenarios where order is important.\n",
    "   - **Dictionary**: Data is organized as **key-value pairs**, making it ideal for scenarios where data needs to be labeled or associated with unique identifiers."
   ]
  }
 ],
 "metadata": {
  "kernelspec": {
   "display_name": "Python 3 (ipykernel)",
   "language": "python",
   "name": "python3"
  },
  "language_info": {
   "codemirror_mode": {
    "name": "ipython",
    "version": 3
   },
   "file_extension": ".py",
   "mimetype": "text/x-python",
   "name": "python",
   "nbconvert_exporter": "python",
   "pygments_lexer": "ipython3",
   "version": "3.12.7"
  }
 },
 "nbformat": 4,
 "nbformat_minor": 5
}
