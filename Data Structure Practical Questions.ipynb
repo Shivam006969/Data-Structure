{
 "cells": [
  {
   "cell_type": "markdown",
   "id": "8a5fff4f-c2a0-4415-9f89-dd1502145cc0",
   "metadata": {},
   "source": [
    "## Practical Questions"
   ]
  },
  {
   "cell_type": "markdown",
   "id": "25a3b50f-a4f8-4181-9811-843a306ca799",
   "metadata": {},
   "source": [
    "### 1. Write a code to create a string with your name and print it."
   ]
  },
  {
   "cell_type": "code",
   "execution_count": 3,
   "id": "a82ac663-6bdf-43ca-9d11-becdfbf98de6",
   "metadata": {},
   "outputs": [
    {
     "name": "stdout",
     "output_type": "stream",
     "text": [
      "Shivam Kumar\n"
     ]
    }
   ],
   "source": [
    "name = \"Shivam Kumar\"\n",
    "print(name)"
   ]
  },
  {
   "cell_type": "markdown",
   "id": "c49c951f-5bd2-4a85-b4cb-bb3a3f149df3",
   "metadata": {},
   "source": [
    "### 2. Write a code to find the length of the string \"Hello World\"."
   ]
  },
  {
   "cell_type": "code",
   "execution_count": 6,
   "id": "718d77a9-cd56-4c20-bb1b-e66ee4cc15d7",
   "metadata": {},
   "outputs": [
    {
     "data": {
      "text/plain": [
       "11"
      ]
     },
     "execution_count": 6,
     "metadata": {},
     "output_type": "execute_result"
    }
   ],
   "source": [
    "string = \"Hello World\"\n",
    "len(string)"
   ]
  },
  {
   "cell_type": "markdown",
   "id": "3bfb1e49-ee25-4c0d-975a-757188e080b8",
   "metadata": {},
   "source": [
    "### 3. Write a code to slice the first 3 characters from the string \"Python Programming\"."
   ]
  },
  {
   "cell_type": "code",
   "execution_count": 11,
   "id": "e3273ac8-47c9-463c-beb9-b2926788c533",
   "metadata": {},
   "outputs": [
    {
     "data": {
      "text/plain": [
       "'Pyt'"
      ]
     },
     "execution_count": 11,
     "metadata": {},
     "output_type": "execute_result"
    }
   ],
   "source": [
    "str1 = \"Python Programming\"\n",
    "str1[0:3]"
   ]
  },
  {
   "cell_type": "markdown",
   "id": "452fac8b-d7f2-4799-b5bf-7bef68858a4e",
   "metadata": {},
   "source": [
    "### 4. Write a code to convert the string \"hello\" to uppercase."
   ]
  },
  {
   "cell_type": "code",
   "execution_count": 17,
   "id": "6bb7e88f-f739-47e2-a34d-74b973513863",
   "metadata": {},
   "outputs": [
    {
     "data": {
      "text/plain": [
       "'HELLO'"
      ]
     },
     "execution_count": 17,
     "metadata": {},
     "output_type": "execute_result"
    }
   ],
   "source": [
    "str2 = \"hello\"\n",
    "str2.upper()"
   ]
  },
  {
   "cell_type": "markdown",
   "id": "3028e06e-e313-4f77-a31a-238996359fd0",
   "metadata": {},
   "source": [
    "### 5. Write a code to replace the word \"apple\" with \"orange\" in the string \"I like apple\"."
   ]
  },
  {
   "cell_type": "code",
   "execution_count": 20,
   "id": "495a7062-e749-48c4-8577-65a0a6918305",
   "metadata": {},
   "outputs": [
    {
     "name": "stdout",
     "output_type": "stream",
     "text": [
      "I like apple\n"
     ]
    }
   ],
   "source": [
    "str3 = \"I like apple\"\n",
    "print(str3)"
   ]
  },
  {
   "cell_type": "code",
   "execution_count": 28,
   "id": "395703f2-ab44-423a-9b4c-64cb14440c1f",
   "metadata": {},
   "outputs": [
    {
     "data": {
      "text/plain": [
       "'I like orange'"
      ]
     },
     "execution_count": 28,
     "metadata": {},
     "output_type": "execute_result"
    }
   ],
   "source": [
    "str3.replace(\"apple\",\"orange\")"
   ]
  },
  {
   "cell_type": "markdown",
   "id": "7a6bec1f-1a8a-4316-b670-8178a356c8d2",
   "metadata": {},
   "source": [
    "### 6. Write a code to create a list with numbers 1 to 5 and print it."
   ]
  },
  {
   "cell_type": "code",
   "execution_count": 37,
   "id": "b52fe915-3fab-4f47-adcf-2fc46979503e",
   "metadata": {},
   "outputs": [
    {
     "name": "stdout",
     "output_type": "stream",
     "text": [
      "[1, 2, 3, 4, 5]\n"
     ]
    }
   ],
   "source": [
    "a = [1,2,3,4,5]\n",
    "print(a)"
   ]
  },
  {
   "cell_type": "markdown",
   "id": "8d5a8a3d-a54f-490c-bf6b-a6c658a441d5",
   "metadata": {},
   "source": [
    "### 7. Write a code to append the number 10 to the list [1, 2, 3, 4]."
   ]
  },
  {
   "cell_type": "code",
   "execution_count": 6,
   "id": "983e6d74-24dc-488e-b4d5-13fa84e02197",
   "metadata": {},
   "outputs": [
    {
     "name": "stdout",
     "output_type": "stream",
     "text": [
      "[1, 2, 3, 4]\n"
     ]
    }
   ],
   "source": [
    "list1 = [1,2,3,4]\n",
    "print(list1)"
   ]
  },
  {
   "cell_type": "code",
   "execution_count": 8,
   "id": "8a35c1fc-57b4-4c0c-86be-82327576c524",
   "metadata": {},
   "outputs": [
    {
     "name": "stdout",
     "output_type": "stream",
     "text": [
      "[1, 2, 3, 4, 10]\n"
     ]
    }
   ],
   "source": [
    "list1.append(10)\n",
    "print(list1)"
   ]
  },
  {
   "cell_type": "markdown",
   "id": "7ce9986b-595e-4b6b-8a41-5e4d140395cd",
   "metadata": {},
   "source": [
    "### 8. Write a code to remove the number 3 from the list [1, 2, 3, 4, 5]."
   ]
  },
  {
   "cell_type": "code",
   "execution_count": 11,
   "id": "89007c01-c4a9-4a0d-a3e1-373ab4adb622",
   "metadata": {},
   "outputs": [
    {
     "name": "stdout",
     "output_type": "stream",
     "text": [
      "[1, 2, 3, 4, 5]\n"
     ]
    }
   ],
   "source": [
    "list2 = [1,2,3,4,5]\n",
    "print(list2)"
   ]
  },
  {
   "cell_type": "code",
   "execution_count": 13,
   "id": "6c835cbd-9b16-4159-84dc-896e401aa436",
   "metadata": {},
   "outputs": [
    {
     "name": "stdout",
     "output_type": "stream",
     "text": [
      "[1, 2, 4, 5]\n"
     ]
    }
   ],
   "source": [
    "list2.remove(3)\n",
    "print(list2)"
   ]
  },
  {
   "cell_type": "markdown",
   "id": "d6ffa806-675a-4c3e-83e7-eb538223829a",
   "metadata": {},
   "source": [
    "### 9. Write a code to access the second element in the list ['a', 'b', 'c', 'd']."
   ]
  },
  {
   "cell_type": "code",
   "execution_count": 18,
   "id": "fa533708-098d-444d-8ce6-8d08a72e4fba",
   "metadata": {},
   "outputs": [
    {
     "data": {
      "text/plain": [
       "'b'"
      ]
     },
     "execution_count": 18,
     "metadata": {},
     "output_type": "execute_result"
    }
   ],
   "source": [
    "list_ = ['a','b','c','d']\n",
    "list_[1]"
   ]
  },
  {
   "cell_type": "markdown",
   "id": "a4ca2b11-13a2-4c30-8084-7cb6a5981fa5",
   "metadata": {},
   "source": [
    "### 10. Write a code to reverse the list [10, 20, 30, 40, 50]."
   ]
  },
  {
   "cell_type": "code",
   "execution_count": 21,
   "id": "3322c9f6-b773-4f29-8d8e-70a432826419",
   "metadata": {},
   "outputs": [
    {
     "data": {
      "text/plain": [
       "[50, 40, 30, 20, 10]"
      ]
     },
     "execution_count": 21,
     "metadata": {},
     "output_type": "execute_result"
    }
   ],
   "source": [
    "b = [10, 20, 30, 40, 50]\n",
    "b[::-1]"
   ]
  },
  {
   "cell_type": "markdown",
   "id": "22c93712-d7ec-4ef9-8b47-5519a03981aa",
   "metadata": {},
   "source": [
    "### 11.  Write a code to create a tuple with the elements 100, 200, 300 and print it."
   ]
  },
  {
   "cell_type": "code",
   "execution_count": 24,
   "id": "005f5d33-3912-429b-835c-6c8533e31792",
   "metadata": {},
   "outputs": [
    {
     "name": "stdout",
     "output_type": "stream",
     "text": [
      "(100, 200, 300)\n"
     ]
    }
   ],
   "source": [
    "tup = (100,200,300)\n",
    "print(tup)"
   ]
  },
  {
   "cell_type": "markdown",
   "id": "dd13afb9-0783-4108-9661-1def331b35f9",
   "metadata": {},
   "source": [
    "### 12. Write a code to access the second-to-last element of the tuple ('red', 'green', 'blue', 'yellow')."
   ]
  },
  {
   "cell_type": "code",
   "execution_count": 27,
   "id": "5b03e803-043c-48da-8a4d-c810213b0530",
   "metadata": {},
   "outputs": [
    {
     "data": {
      "text/plain": [
       "'blue'"
      ]
     },
     "execution_count": 27,
     "metadata": {},
     "output_type": "execute_result"
    }
   ],
   "source": [
    "colors = ('red', 'green', 'blue', 'yellow')\n",
    "colors[-2]"
   ]
  },
  {
   "cell_type": "markdown",
   "id": "32fd1c35-88e2-445f-bca2-09a5d3c57b03",
   "metadata": {},
   "source": [
    "### 13. Write a code to find the minimum number in the tuple (10, 20, 5, 15)."
   ]
  },
  {
   "cell_type": "code",
   "execution_count": 30,
   "id": "a3c3739a-24a2-47d8-9d03-8639a373edb0",
   "metadata": {},
   "outputs": [
    {
     "name": "stdout",
     "output_type": "stream",
     "text": [
      "5\n"
     ]
    }
   ],
   "source": [
    "my_tup = (10, 20, 5, 15)\n",
    "print(min(my_tup))"
   ]
  },
  {
   "cell_type": "markdown",
   "id": "8743b453-3cf9-4c89-895e-613c667aba6b",
   "metadata": {},
   "source": [
    "### 14. Write a code to find the index of the element \"cat\" in the tuple ('dog', 'cat', 'rabbit')."
   ]
  },
  {
   "cell_type": "code",
   "execution_count": 33,
   "id": "d5380021-7d35-4e03-867b-47d8f5a922e9",
   "metadata": {},
   "outputs": [
    {
     "data": {
      "text/plain": [
       "1"
      ]
     },
     "execution_count": 33,
     "metadata": {},
     "output_type": "execute_result"
    }
   ],
   "source": [
    "pets = ('dog', 'cat', 'rabbit')\n",
    "pets.index(\"cat\")"
   ]
  },
  {
   "cell_type": "markdown",
   "id": "7c8333e1-23fd-4d65-bc3d-a63e31c42949",
   "metadata": {},
   "source": [
    "### 15. Write a code to create a tuple containing three different fruits and check if \"kiwi\" is in it."
   ]
  },
  {
   "cell_type": "code",
   "execution_count": 38,
   "id": "bb694b48-6d18-4dfc-b73c-c6d7db13502a",
   "metadata": {},
   "outputs": [
    {
     "data": {
      "text/plain": [
       "False"
      ]
     },
     "execution_count": 38,
     "metadata": {},
     "output_type": "execute_result"
    }
   ],
   "source": [
    "fruits = (\"Orange\", \"Mango\", \"Banana\")\n",
    "\"Kiwi\" in fruits"
   ]
  },
  {
   "cell_type": "markdown",
   "id": "aa8ed24b-50ee-477f-89fd-3a891bd31ad5",
   "metadata": {},
   "source": [
    "### 16. Write a code to create a set with the elements 'a', 'b', 'c' and print it."
   ]
  },
  {
   "cell_type": "code",
   "execution_count": 41,
   "id": "a9e15d91-aa62-4ab6-9fc8-b7d6e8953569",
   "metadata": {},
   "outputs": [
    {
     "name": "stdout",
     "output_type": "stream",
     "text": [
      "{'b', 'a', 'c'}\n"
     ]
    }
   ],
   "source": [
    "my_set = {'a', 'b', 'c'}\n",
    "print(my_set)"
   ]
  },
  {
   "cell_type": "markdown",
   "id": "6caeda78-67f8-4411-87b6-64135c5d772b",
   "metadata": {},
   "source": [
    "### 17. Write a code to clear all elements from the set {1, 2, 3, 4, 5}."
   ]
  },
  {
   "cell_type": "code",
   "execution_count": 2,
   "id": "855527e7-713e-4bc7-880e-bab3a8199a98",
   "metadata": {},
   "outputs": [
    {
     "name": "stdout",
     "output_type": "stream",
     "text": [
      "{1, 2, 3, 4, 5}\n"
     ]
    }
   ],
   "source": [
    "my_set1 = {1, 2, 3, 4, 5}\n",
    "print(my_set1)"
   ]
  },
  {
   "cell_type": "code",
   "execution_count": 4,
   "id": "1d465195-30e8-48d8-a059-b867ac39bc47",
   "metadata": {},
   "outputs": [
    {
     "name": "stdout",
     "output_type": "stream",
     "text": [
      "set()\n"
     ]
    }
   ],
   "source": [
    "my_set1.clear()\n",
    "print(my_set1)"
   ]
  },
  {
   "cell_type": "markdown",
   "id": "ab6af3ae-e5a9-4bb8-b65e-b73bec481189",
   "metadata": {},
   "source": [
    "### 18. Write a code to remove the element 4 from the set {1, 2, 3, 4}."
   ]
  },
  {
   "cell_type": "code",
   "execution_count": 19,
   "id": "168b9d7f-f93a-4a4d-aa24-8fdb377db5bc",
   "metadata": {},
   "outputs": [
    {
     "name": "stdout",
     "output_type": "stream",
     "text": [
      "{1, 2, 3, 4}\n"
     ]
    }
   ],
   "source": [
    "my_set = {1,2,3,4}\n",
    "print(my_set)"
   ]
  },
  {
   "cell_type": "code",
   "execution_count": 21,
   "id": "157bc572-6849-4810-8c91-3b589e7b3c01",
   "metadata": {},
   "outputs": [
    {
     "name": "stdout",
     "output_type": "stream",
     "text": [
      "{1, 2, 3}\n"
     ]
    }
   ],
   "source": [
    "my_set.remove(4)\n",
    "print(my_set)"
   ]
  },
  {
   "cell_type": "markdown",
   "id": "43e81607-c561-40ce-904e-59ed966192a2",
   "metadata": {},
   "source": [
    "### 19. Write a code to find the union of two sets {1, 2, 3} and {3, 4, 5}"
   ]
  },
  {
   "cell_type": "code",
   "execution_count": 24,
   "id": "967661a3-6cb9-4c7e-864e-687ee8c2a7f5",
   "metadata": {},
   "outputs": [
    {
     "data": {
      "text/plain": [
       "{1, 2, 3, 4, 5}"
      ]
     },
     "execution_count": 24,
     "metadata": {},
     "output_type": "execute_result"
    }
   ],
   "source": [
    "a = {1,2,3}\n",
    "b = {3,4,5}\n",
    "a | b"
   ]
  },
  {
   "cell_type": "markdown",
   "id": "e347b280-d66f-4be8-a09d-733e18b5572b",
   "metadata": {},
   "source": [
    "### 20. Write a code to find the intersection of two sets {1, 2, 3} and {2, 3, 4}."
   ]
  },
  {
   "cell_type": "code",
   "execution_count": 27,
   "id": "4e398d6f-5f80-42ec-aa80-ee138370717d",
   "metadata": {},
   "outputs": [
    {
     "data": {
      "text/plain": [
       "{3}"
      ]
     },
     "execution_count": 27,
     "metadata": {},
     "output_type": "execute_result"
    }
   ],
   "source": [
    "a = {1,2,3}\n",
    "b = {3,4,5}\n",
    "a & b"
   ]
  },
  {
   "cell_type": "markdown",
   "id": "18eb4a7b-321a-48a4-a272-ec9de34cb412",
   "metadata": {},
   "source": [
    "### 21. Write a code to create a dictionary with the keys \"name\", \"age\", and \"city\", and print it."
   ]
  },
  {
   "cell_type": "code",
   "execution_count": 32,
   "id": "99da870b-7531-4083-b1e9-fb0fd558a7ae",
   "metadata": {},
   "outputs": [
    {
     "name": "stdout",
     "output_type": "stream",
     "text": [
      "{'name': 'Shivam', 'age': 21, 'city': 'Delhi'}\n"
     ]
    }
   ],
   "source": [
    "dic = {\"name\":\"Shivam\", \"age\":21, \"city\":\"Delhi\"}\n",
    "print(dic)"
   ]
  },
  {
   "cell_type": "markdown",
   "id": "3de15dc8-a347-4372-ac2e-3dc5de414383",
   "metadata": {},
   "source": [
    "### 22. Write a code to add a new key-value pair \"country\": \"USA\" to the dictionary {'name': 'John', 'age': 25}."
   ]
  },
  {
   "cell_type": "code",
   "execution_count": 37,
   "id": "04ca5efe-6189-4370-8850-8b2821fd6afd",
   "metadata": {},
   "outputs": [
    {
     "name": "stdout",
     "output_type": "stream",
     "text": [
      "{'name': 'John', 'age': 25}\n"
     ]
    }
   ],
   "source": [
    "dictionary = {'name': 'John', 'age': 25}\n",
    "print(dictionary)"
   ]
  },
  {
   "cell_type": "code",
   "execution_count": 41,
   "id": "e179f96d-b141-4429-8c12-8b819f0ff4f0",
   "metadata": {},
   "outputs": [
    {
     "name": "stdout",
     "output_type": "stream",
     "text": [
      "{'name': 'John', 'age': 25, 'country': 'USA'}\n"
     ]
    }
   ],
   "source": [
    "dictionary[\"country\"] = \"USA\"\n",
    "print(dictionary)"
   ]
  },
  {
   "cell_type": "markdown",
   "id": "83c8528f-d5f9-4ae5-a3c8-4b784ca74b93",
   "metadata": {},
   "source": [
    "### 23.  Write a code to access the value associated with the key \"name\" in the dictionary {'name': 'Alice', 'age': 30}."
   ]
  },
  {
   "cell_type": "code",
   "execution_count": 2,
   "id": "e3cb8f01-d0ad-4b0b-b813-0f16567e04ab",
   "metadata": {},
   "outputs": [
    {
     "data": {
      "text/plain": [
       "'Alice'"
      ]
     },
     "execution_count": 2,
     "metadata": {},
     "output_type": "execute_result"
    }
   ],
   "source": [
    "set1 = {'name': 'Alice', 'age': 30}\n",
    "set1[\"name\"]"
   ]
  },
  {
   "cell_type": "markdown",
   "id": "bcb0f98c-4b76-4dde-9376-2238d3b51a75",
   "metadata": {},
   "source": [
    "### 24. Write a code to remove the key \"age\" from the dictionary {'name': 'Bob', 'age': 22, 'city': 'New York'}."
   ]
  },
  {
   "cell_type": "code",
   "execution_count": 12,
   "id": "bcf680ef-8e3c-4aee-ba58-66d2eac56825",
   "metadata": {},
   "outputs": [
    {
     "name": "stdout",
     "output_type": "stream",
     "text": [
      "{'name': 'Bob', 'age': 22, 'city': 'New York'}\n"
     ]
    }
   ],
   "source": [
    "set2 = {'name': 'Bob', 'age': 22, 'city': 'New York'}\n",
    "print(set2)"
   ]
  },
  {
   "cell_type": "code",
   "execution_count": 14,
   "id": "c17a07cb-6bae-4901-8618-024b5290f9a4",
   "metadata": {},
   "outputs": [
    {
     "name": "stdout",
     "output_type": "stream",
     "text": [
      "{'name': 'Bob', 'city': 'New York'}\n"
     ]
    }
   ],
   "source": [
    "set2.pop(\"age\")\n",
    "print(set2)"
   ]
  },
  {
   "cell_type": "markdown",
   "id": "ec9d2017-ad31-4de0-9f11-95d816f1e947",
   "metadata": {},
   "source": [
    "### 25. Write a code to check if the key \"city\" exists in the dictionary {'name': 'Alice', 'city': 'Paris'}."
   ]
  },
  {
   "cell_type": "code",
   "execution_count": 19,
   "id": "9b8661b8-4128-4908-bedb-18e68d91b94e",
   "metadata": {},
   "outputs": [],
   "source": [
    "my_set = {'name': 'Alice', 'city': 'Paris'}"
   ]
  },
  {
   "cell_type": "code",
   "execution_count": 21,
   "id": "a7d872b9-bb81-46c5-9a50-68840b972d83",
   "metadata": {},
   "outputs": [
    {
     "data": {
      "text/plain": [
       "True"
      ]
     },
     "execution_count": 21,
     "metadata": {},
     "output_type": "execute_result"
    }
   ],
   "source": [
    "\"city\" in my_set"
   ]
  },
  {
   "cell_type": "markdown",
   "id": "74b31f95-c645-44c3-8e75-18241f4c338c",
   "metadata": {},
   "source": [
    "### 26. Write a code to create a list, a tuple, and a dictionary, and print them all."
   ]
  },
  {
   "cell_type": "code",
   "execution_count": 24,
   "id": "26e6c216-f517-4ea0-a27d-ec1a8b2a5c32",
   "metadata": {},
   "outputs": [],
   "source": [
    "my_list = {\"a\",\"b\",\"c\",\"d\"}\n",
    "my_tuple = (\"a\",\"b\",\"c\",\"d\")\n",
    "my_dict = {\"a\":1,\"b\":2,\"c\":3,\"d\":4}"
   ]
  },
  {
   "cell_type": "code",
   "execution_count": 26,
   "id": "12e44304-1e07-4a9b-af47-8e4f22f35c2a",
   "metadata": {},
   "outputs": [
    {
     "name": "stdout",
     "output_type": "stream",
     "text": [
      "{'a', 'b', 'c', 'd'}\n",
      "('a', 'b', 'c', 'd')\n",
      "{'a': 1, 'b': 2, 'c': 3, 'd': 4}\n"
     ]
    }
   ],
   "source": [
    "print(my_list)\n",
    "print(my_tuple)\n",
    "print(my_dict)"
   ]
  },
  {
   "cell_type": "markdown",
   "id": "7d329b8a-d53d-4f4b-831d-3858b347e1a4",
   "metadata": {},
   "source": [
    "### 27. Write a code to create a list of 5 random numbers between 1 and 100, sort it in ascending order, and print the result.(replaced)."
   ]
  },
  {
   "cell_type": "code",
   "execution_count": 30,
   "id": "b1ce4499-aa0b-44ee-ad12-f238679a36b3",
   "metadata": {},
   "outputs": [],
   "source": [
    "num_list = [7,5,23,79,53]"
   ]
  },
  {
   "cell_type": "code",
   "execution_count": 32,
   "id": "f145012a-2491-42b1-bf70-b005d9247632",
   "metadata": {},
   "outputs": [
    {
     "name": "stdout",
     "output_type": "stream",
     "text": [
      "[7, 5, 23, 79, 53]\n",
      "[5, 7, 23, 53, 79]\n"
     ]
    }
   ],
   "source": [
    "sorted_num = sorted(num_list)\n",
    "print(num_list)\n",
    "print(sorted_num)"
   ]
  },
  {
   "cell_type": "markdown",
   "id": "e298fc91-0891-4ffe-be87-e62b00ac4cc8",
   "metadata": {},
   "source": [
    "### 28. Write a code to create a list with strings and print the element at the third index."
   ]
  },
  {
   "cell_type": "code",
   "execution_count": 35,
   "id": "13ab7500-5e9b-474e-8f98-7df01f9526d0",
   "metadata": {},
   "outputs": [
    {
     "name": "stdout",
     "output_type": "stream",
     "text": [
      "['Orange', 'Mango', 'Utensils', 'Coffee', 'Banana']\n"
     ]
    }
   ],
   "source": [
    "str_list = [\"Orange\", \"Mango\", \"Utensils\", \"Coffee\", \"Banana\"]\n",
    "print(str_list)"
   ]
  },
  {
   "cell_type": "code",
   "execution_count": 37,
   "id": "2057a08b-fa4e-4052-acba-b0c541818063",
   "metadata": {},
   "outputs": [
    {
     "name": "stdout",
     "output_type": "stream",
     "text": [
      "Utensils\n"
     ]
    }
   ],
   "source": [
    "print(str_list[2])"
   ]
  },
  {
   "cell_type": "markdown",
   "id": "616b4c14-aff8-47c9-84a4-a3c553baf081",
   "metadata": {},
   "source": [
    "### 29. Write a code to combine two dictionaries into one and print the result."
   ]
  },
  {
   "cell_type": "code",
   "execution_count": 40,
   "id": "31acba9f-34e5-4718-9329-0962c701c288",
   "metadata": {},
   "outputs": [],
   "source": [
    "dict1 = {\"Fruits\":[\"Mango\", \"Banana\", \"Orange\"], \"Vegetables\":[\"Brinjal\",\"Carrot\",\"Brocoli\"]}\n",
    "dict2 = {\"Utensils\":[\"Bowl\", \"Plate\", \"Knife\"], \"Books\":[\"Maths\",\"Science\",\"English\"]}"
   ]
  },
  {
   "cell_type": "code",
   "execution_count": 52,
   "id": "a3ee20ff-eda6-4b14-a931-ae95994fa87d",
   "metadata": {},
   "outputs": [
    {
     "name": "stdout",
     "output_type": "stream",
     "text": [
      "({'Fruits': ['Mango', 'Banana', 'Orange'], 'Vegetables': ['Brinjal', 'Carrot', 'Brocoli']}, {'Utensils': ['Bowl', 'Plate', 'Knife'], 'Books': ['Maths', 'Science', 'English']})\n"
     ]
    }
   ],
   "source": [
    "comb_dict = (dict1, dict2)\n",
    "print(comb_dict)"
   ]
  },
  {
   "cell_type": "markdown",
   "id": "d8eb5213-c41b-4962-aa8e-8d1ae8d7e8f0",
   "metadata": {},
   "source": [
    "### 30. Write a code to convert a list of strings into a set."
   ]
  },
  {
   "cell_type": "code",
   "execution_count": 57,
   "id": "517c0f7d-eb9b-4217-9bfa-6c64d670cda7",
   "metadata": {},
   "outputs": [],
   "source": [
    "my_list = [\"Orange\", \"Pineapple\", \"Mango\", \"Banana\", \"Orange\"]\n",
    "my_set = set(my_list)"
   ]
  },
  {
   "cell_type": "code",
   "execution_count": 59,
   "id": "222c1db1-826c-4055-9493-e34a3504cb3f",
   "metadata": {},
   "outputs": [
    {
     "name": "stdout",
     "output_type": "stream",
     "text": [
      "{'Banana', 'Pineapple', 'Mango', 'Orange'}\n"
     ]
    }
   ],
   "source": [
    "print(my_set)"
   ]
  }
 ],
 "metadata": {
  "kernelspec": {
   "display_name": "Python 3 (ipykernel)",
   "language": "python",
   "name": "python3"
  },
  "language_info": {
   "codemirror_mode": {
    "name": "ipython",
    "version": 3
   },
   "file_extension": ".py",
   "mimetype": "text/x-python",
   "name": "python",
   "nbconvert_exporter": "python",
   "pygments_lexer": "ipython3",
   "version": "3.12.7"
  }
 },
 "nbformat": 4,
 "nbformat_minor": 5
}
